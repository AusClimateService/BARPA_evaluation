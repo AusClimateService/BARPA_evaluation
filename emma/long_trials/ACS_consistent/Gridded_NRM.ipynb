{
 "cells": [
  {
   "cell_type": "code",
   "execution_count": 6,
   "id": "d97ed6ca-9e94-40ac-a2d6-9a510ff88ac7",
   "metadata": {},
   "outputs": [],
   "source": [
    "from netCDF4 import Dataset\n",
    "import numpy as np\n",
    "import iris\n",
    "import os\n",
    "os.chdir(\"/home/548/eh6215/Desktop/python/BARPA_evaluation/emma/long_trials/ACS_consistent\")\n",
    "import spatial_selection\n",
    "import geopandas as gp\n"
   ]
  },
  {
   "cell_type": "code",
   "execution_count": 3,
   "id": "9a58fff3-e1a3-4c56-aca3-0c8051415342",
   "metadata": {},
   "outputs": [],
   "source": [
    "nrm_clusters = gp.read_file('/short/tp28/eh6215/NRM_clusters/NRM_clusters.shp')\n",
    "nrm_sub_clusters = gp.read_file('/short/tp28/eh6215//NRM_sub_clusters/NRM_sub_clusters.shp')"
   ]
  },
  {
   "cell_type": "code",
   "execution_count": 14,
   "id": "bac41139-55b4-457a-a3aa-c23783b83377",
   "metadata": {},
   "outputs": [],
   "source": [
    "lsm = iris.load_cube(\"/g/data/tp28/dev/barpa/ancils/barpa-r/land_sea_mask/cci/qrparm.mask.nc\",\"land_binary_mask\")\n",
    "lon= lsm.coord('longitude').points\n",
    "lat =lsm.coord('latitude').points\n",
    "lonbnd = lsm.coord('longitude').bounds\n",
    "latbnd = lsm.coord('latitude').bounds"
   ]
  },
  {
   "cell_type": "code",
   "execution_count": 34,
   "id": "697eb38a-3394-4968-b002-edbcbaa4c3e6",
   "metadata": {},
   "outputs": [],
   "source": [
    "a = spatial_selection.centre_mask(nrm_sub_clusters, lon,lat, output=\"2D\")\n",
    "lbl_a=np.asarray([['Wet Tropics', 'Rangelands', 'Monsoonal North', 'Monsoonal North',\n",
    "       'East Coast', 'Central Slopes', 'Murray Basin',\n",
    "       'Southern and South Western Flatlands',\n",
    "       'Southern and South Western Flatlands', 'Southern Slopes',\n",
    "       'Southern Slopes', 'Southern Slopes', 'Southern Slopes',\n",
    "       'East Coast', 'Rangelands']])\n",
    "\n",
    "a = a.values\n",
    "a = np.ma.masked_array(a,np.isnan(a))\n",
    "\n",
    "a.mask += (lsm.data == 0)"
   ]
  },
  {
   "cell_type": "code",
   "execution_count": 38,
   "id": "85896d4d-2fef-4005-8f58-6559bd8f7f07",
   "metadata": {},
   "outputs": [],
   "source": [
    "b = spatial_selection.centre_mask(nrm_clusters, lon,lat, output=\"2D\")\n",
    "lbl_b=np.asarray(['CentralSlopes', 'EastCoast', 'MurrayBasin', 'MonsoonalNorth', 'Rangelands', 'Southern_Slopes', 'SSW_Flatlands', 'Wet_Tropics'])\n",
    "\n",
    "b = b.values\n",
    "b = np.ma.masked_array(b,np.isnan(b))\n",
    "b.mask += (lsm.data == 0)"
   ]
  },
  {
   "cell_type": "code",
   "execution_count": 36,
   "id": "428701a7-8271-42b1-a752-d6253f96b8a0",
   "metadata": {},
   "outputs": [],
   "source": [
    "# Create netCDF dimensions\n",
    "dset = Dataset(\"/home/548/eh6215/NRM_subclusters_new.nc\",mode=\"w\")\n",
    "dset.createDimension(\"lat\" ,size=lat.size)\n",
    "dset.createDimension(\"lon\" ,size=lon.size)\n",
    "dset.createDimension(\"nb\"  ,size=2       )\n",
    "dset.createDimension(\"n\"   ,size=lbl_a.size)\n",
    "\n",
    "# Create netCDF variables\n",
    "X  = dset.createVariable(\"lat\"        ,lat.dtype,(\"lat\"      ))\n",
    "XB = dset.createVariable(\"lat_bounds\" ,lat.dtype,(\"lat\",\"nb\" ))\n",
    "Y  = dset.createVariable(\"lon\"        ,lon.dtype,(\"lon\"      ))\n",
    "YB = dset.createVariable(\"lon_bounds\" ,lon.dtype,(\"lon\",\"nb\" ))\n",
    "I  = dset.createVariable(\"ids\"        ,a.dtype,(\"lat\",\"lon\"))\n",
    "L  = dset.createVariable(\"labels\"     ,lbl_a.dtype,(\"n\"        ))\n",
    "\n",
    "# Load data and encode attributes\n",
    "X [...] = lat\n",
    "X.units = \"degrees_north\"\n",
    "XB[...] = latbnd\n",
    "\n",
    "Y [...] = lon\n",
    "Y.units = \"degrees_east\"\n",
    "YB[...] = lonbnd\n",
    "\n",
    "I[...]  = a\n",
    "I.labels= \"labels\"\n",
    "\n",
    "L[...]  = lbl_a\n",
    "\n",
    "dset.close()"
   ]
  },
  {
   "cell_type": "code",
   "execution_count": 39,
   "id": "f30a4f8e-1652-488d-aec4-7d31241af91f",
   "metadata": {},
   "outputs": [],
   "source": [
    "# Create netCDF dimensions\n",
    "dset = Dataset(\"/home/548/eh6215/NRM_clusters_new.nc\",mode=\"w\")\n",
    "dset.createDimension(\"lat\" ,size=lat.size)\n",
    "dset.createDimension(\"lon\" ,size=lon.size)\n",
    "dset.createDimension(\"nb\"  ,size=2       )\n",
    "dset.createDimension(\"n\"   ,size=lbl_b.size)\n",
    "\n",
    "# Create netCDF variables\n",
    "X  = dset.createVariable(\"lat\"        ,lat.dtype,(\"lat\"      ))\n",
    "XB = dset.createVariable(\"lat_bounds\" ,lat.dtype,(\"lat\",\"nb\" ))\n",
    "Y  = dset.createVariable(\"lon\"        ,lon.dtype,(\"lon\"      ))\n",
    "YB = dset.createVariable(\"lon_bounds\" ,lon.dtype,(\"lon\",\"nb\" ))\n",
    "I  = dset.createVariable(\"ids\"        ,b.dtype,(\"lat\",\"lon\"))\n",
    "L  = dset.createVariable(\"labels\"     ,lbl_b.dtype,(\"n\"        ))\n",
    "\n",
    "# Load data and encode attributes\n",
    "X [...] = lat\n",
    "X.units = \"degrees_north\"\n",
    "XB[...] = latbnd\n",
    "\n",
    "Y [...] = lon\n",
    "Y.units = \"degrees_east\"\n",
    "YB[...] = lonbnd\n",
    "\n",
    "I[...]  = b\n",
    "I.labels= \"labels\"\n",
    "\n",
    "L[...]  = lbl_b\n",
    "\n",
    "dset.close()"
   ]
  },
  {
   "cell_type": "code",
   "execution_count": 33,
   "id": "fa76f542-06f7-4208-8be4-648b79be4164",
   "metadata": {},
   "outputs": [
    {
     "data": {
      "text/plain": [
       "array([[nan, nan, nan, ..., nan, nan, nan],\n",
       "       [nan, nan, nan, ..., nan, nan, nan],\n",
       "       [nan, nan, nan, ..., nan, nan, nan],\n",
       "       ...,\n",
       "       [nan, nan, nan, ..., nan, nan, nan],\n",
       "       [nan, nan, nan, ..., nan, nan, nan],\n",
       "       [nan, nan, nan, ..., nan, nan, nan]])"
      ]
     },
     "execution_count": 33,
     "metadata": {},
     "output_type": "execute_result"
    }
   ],
   "source": [
    "b.values"
   ]
  },
  {
   "cell_type": "code",
   "execution_count": null,
   "id": "5c6f7479-1761-4e22-ac24-25b00b1ea850",
   "metadata": {},
   "outputs": [],
   "source": []
  }
 ],
 "metadata": {
  "kernelspec": {
   "display_name": "Python [conda env:analysis3]",
   "language": "python",
   "name": "conda-env-analysis3-py"
  },
  "language_info": {
   "codemirror_mode": {
    "name": "ipython",
    "version": 3
   },
   "file_extension": ".py",
   "mimetype": "text/x-python",
   "name": "python",
   "nbconvert_exporter": "python",
   "pygments_lexer": "ipython3",
   "version": "3.9.9"
  }
 },
 "nbformat": 4,
 "nbformat_minor": 5
}
