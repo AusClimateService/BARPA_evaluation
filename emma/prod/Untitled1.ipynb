{
 "cells": [
  {
   "cell_type": "code",
   "execution_count": 1,
   "id": "5b69d642-7cce-4cb8-acbb-27d3a536f25f",
   "metadata": {},
   "outputs": [],
   "source": [
    "import iris\n",
    "import iris.analysis.stats as istats\n",
    "import warnings\n",
    "import matplotlib.pyplot as plt\n",
    "import numpy as np\n",
    "import iris.plot as iplt\n",
    "import cartopy.crs as ccrs\n",
    "import os\n",
    "import datetime as dt\n",
    "import cmocean"
   ]
  },
  {
   "cell_type": "code",
   "execution_count": 7,
   "id": "ac78efb8-fc4c-448e-8c0e-dabfd41403d2",
   "metadata": {},
   "outputs": [],
   "source": [
    "def callback(cube,field,filename):\n",
    "    cube1 = cube.extract(iris.Constraint(longitude=lambda x: x>=0))\n",
    "    cube2 = cube.extract(iris.Constraint(longitude=lambda x: x<0))\n",
    "    cube2.coord('longitude').points = cube2.coord('longitude').points + 360\n",
    "    if cube2.coord('longitude').has_bounds():\n",
    "        cube2.coord('longitude').bounds = cube2.coord('longitude').bounds + 360\n",
    "    return iris.cube.CubeList([cube1,cube2]).concatenate_cube()"
   ]
  },
  {
   "cell_type": "code",
   "execution_count": 3,
   "id": "063491ee-4d5c-4eef-b91a-9d94ddabf6e9",
   "metadata": {},
   "outputs": [],
   "source": [
    "alpha_w = iris.coords.AuxCoord(1/1000.,units='m**3*kg**-1')\n",
    "cmip_info = {\"ACCESS-CM2\":(\"CSIRO-ARCCSS\",\"r4i1p1f1\"),\"ACCESS-ESM1-5\":('CSIRO','r6i1p1f1'),'NorESM2-MM':('NCC','r1i1p1f1')}\n",
    "def load_cmip6(scenario,model,stream,var,t_s,t_e,Constraints,template=None,lapse=None,regrid_method=iris.analysis.Linear(),callback=None):\n",
    "    group,rev  = cmip_info[model]\n",
    "    if scenario == 'historical':\n",
    "        mip = \"CMIP\"\n",
    "    else:\n",
    "        mip = \"ScenarioMIP\"\n",
    "    path = \"/g/data/r87/DRSv3/CMIP6/{mip}/{group}/{model}/{scenario}/{rev}/{stream}/{var}/gn/latest/\".format(mip=mip,scenario=scenario,rev=rev,stream=stream,var=var,group=group,model=model)\n",
    "    filepart = \"{var}_{stream}_{model}_{scenario}_{rev}_gn\".format(mip=mip,scenario=scenario,rev=rev,stream=stream,var=var,group=group,model=model)\n",
    "    try:\n",
    "        files = [f for f in os.listdir(path) if filepart in f]\n",
    "    except:\n",
    "        path = path.replace('latest','v20191108')\n",
    "        files = [f for f in os.listdir(path) if filepart in f]\n",
    "    starts = [f.split(\"_\")[-1].split(\"-\")[0] for f in files]\n",
    "    ends = [f.split(\"_\")[-1].split(\"-\")[1] for f in files]\n",
    "    starts = [dt.datetime(int(x[:4]),int(x[4:6]),1) for x in starts]\n",
    "    ends = [dt.datetime(int(x[:4]),int(x[4:6]),1) for x in ends]\n",
    "    files = [ os.path.join(path,f) for (i,f) in enumerate(files) if ((t_e  - starts[i]).days >0  and (ends[i] - t_s).days >= 0) ]\n",
    "    ct = iris.Constraint(time = lambda t: ((dt.datetime(t.point.year,t.point.month,1) - t_s).days >= 0) and ((dt.datetime(t.point.year,t.point.month,1) - t_e).days < 0))\n",
    "    data = iris.load(files,Constraints&ct)\n",
    "    iris.util.equalise_attributes(data)\n",
    "    data=data.concatenate_cube()\n",
    "    if not template is None:\n",
    "        data.coord('longitude').coord_system = template.coord('longitude').coord_system\n",
    "        data.coord('latitude').coord_system = template.coord('latitude').coord_system\n",
    "        data = data.regrid(template,regrid_method)\n",
    "        if lapse is not None:\n",
    "            topo_CMIP = iris.load_cube(\"/g/data/r87/DRSv3/CMIP6/{mip}/{group}/{model}/{scenario}/{rev}/fx/orog/gn/latest/orog_fx_{model}_{scenario}_{rev}_gn.nc\".format(mip=mip,scenario=scenario,rev=rev,stream=stream,var=var,group=group,model=model),Constraints,callback)\n",
    "            topo_CMIP.coord('longitude').coord_system = template.coord('longitude').coord_system\n",
    "            topo_CMIP.coord('latitude').coord_system = template.coord('latitude').coord_system\n",
    "            topo_CMIP = topo_CMIP.regrid(template,regrid_method)\n",
    "            delta = (template - topo_CMIP)*lapse\n",
    "            delta.convert_units(data.units)\n",
    "            data.data = data.data + delta.data\n",
    "    if var=='pr':\n",
    "        name = data.name()\n",
    "        data = data*alpha_w\n",
    "        data.rename(name)\n",
    "    return data"
   ]
  },
  {
   "cell_type": "code",
   "execution_count": 13,
   "id": "6200c44e-0415-4a1f-9a28-c718745c1d79",
   "metadata": {},
   "outputs": [
    {
     "name": "stdout",
     "output_type": "stream",
     "text": [
      "ACCESS-CM2\n"
     ]
    },
    {
     "name": "stderr",
     "output_type": "stream",
     "text": [
      "/g/data/hh5/public/apps/miniconda3/envs/analysis3-21.10/lib/python3.9/site-packages/iris/fileformats/cf.py:859: UserWarning: Missing CF-netCDF measure variable 'areacella', referenced by netCDF variable 'ta'\n",
      "  warnings.warn(\n"
     ]
    },
    {
     "name": "stdout",
     "output_type": "stream",
     "text": [
      "ACCESS-ESM1-5\n"
     ]
    },
    {
     "name": "stderr",
     "output_type": "stream",
     "text": [
      "/g/data/hh5/public/apps/miniconda3/envs/analysis3-21.10/lib/python3.9/site-packages/iris/fileformats/cf.py:859: UserWarning: Missing CF-netCDF measure variable 'areacella', referenced by netCDF variable 'ta'\n",
      "  warnings.warn(\n"
     ]
    },
    {
     "name": "stdout",
     "output_type": "stream",
     "text": [
      "NorESM2-MM\n"
     ]
    },
    {
     "name": "stderr",
     "output_type": "stream",
     "text": [
      "/g/data/hh5/public/apps/miniconda3/envs/analysis3-21.10/lib/python3.9/site-packages/iris/fileformats/cf.py:859: UserWarning: Missing CF-netCDF measure variable 'areacella', referenced by netCDF variable 'ta'\n",
      "  warnings.warn(\n"
     ]
    }
   ],
   "source": [
    "varlist = {'air_temperature':('ta')}\n",
    "cx = iris.Constraint(longitude=lambda x: 160<=x<=200)\n",
    "cy = iris.Constraint(latitude=lambda x: -20<=x<=15)\n",
    "cp =iris.Constraint(air_pressure = lambda p: p in [20000,50000,85000])\n",
    "cmip6 = {}\n",
    "for model in cmip_info:\n",
    "        print(model)\n",
    "        cmip6[model]=iris.cube.CubeList()\n",
    "        year0 =2015\n",
    "        year1 =2020\n",
    "        scen = 'ssp370'\n",
    "        for var in varlist:\n",
    "            cmip6[model].append(load_cmip6(scen,model,\"Amon\",varlist[var],dt.datetime(year0,1,1),dt.datetime(year1,1,1),cx&cy,callback=callback))\n",
    "            "
   ]
  },
  {
   "cell_type": "code",
   "execution_count": 14,
   "id": "97002a92-1fe9-495a-8de9-4275c6766ab2",
   "metadata": {},
   "outputs": [
    {
     "data": {
      "text/plain": [
       "{'ACCESS-CM2': [<iris 'Cube' of air_temperature / (K) (time: 60; air_pressure: 19; latitude: 30; longitude: 22)>],\n",
       " 'ACCESS-ESM1-5': [<iris 'Cube' of air_temperature / (K) (time: 60; air_pressure: 19; latitude: 30; longitude: 22)>],\n",
       " 'NorESM2-MM': [<iris 'Cube' of air_temperature / (K) (time: 60; air_pressure: 19; latitude: 38; longitude: 33)>]}"
      ]
     },
     "execution_count": 14,
     "metadata": {},
     "output_type": "execute_result"
    }
   ],
   "source": [
    "cmip6"
   ]
  },
  {
   "cell_type": "code",
   "execution_count": 31,
   "id": "2183dfd3-2fbb-4731-bc10-d7d9af019f62",
   "metadata": {},
   "outputs": [
    {
     "name": "stderr",
     "output_type": "stream",
     "text": [
      "/g/data/hh5/public/apps/miniconda3/envs/analysis3-21.10/lib/python3.9/site-packages/iris/analysis/cartography.py:394: UserWarning: Using DEFAULT_SPHERICAL_EARTH_RADIUS.\n",
      "  warnings.warn(\"Using DEFAULT_SPHERICAL_EARTH_RADIUS.\")\n",
      "/g/data/hh5/public/apps/miniconda3/envs/analysis3-21.10/lib/python3.9/site-packages/iris/analysis/cartography.py:394: UserWarning: Using DEFAULT_SPHERICAL_EARTH_RADIUS.\n",
      "  warnings.warn(\"Using DEFAULT_SPHERICAL_EARTH_RADIUS.\")\n",
      "/g/data/hh5/public/apps/miniconda3/envs/analysis3-21.10/lib/python3.9/site-packages/iris/analysis/cartography.py:394: UserWarning: Using DEFAULT_SPHERICAL_EARTH_RADIUS.\n",
      "  warnings.warn(\"Using DEFAULT_SPHERICAL_EARTH_RADIUS.\")\n"
     ]
    },
    {
     "data": {
      "text/plain": [
       "<matplotlib.legend.Legend at 0x7f25318ad2e0>"
      ]
     },
     "execution_count": 31,
     "metadata": {},
     "output_type": "execute_result"
    },
    {
     "data": {
      "image/png": "[encoded data removed]",
      "text/plain": [
       "<Figure size 432x288 with 1 Axes>"
      ]
     },
     "metadata": {
      "needs_background": "light"
     },
     "output_type": "display_data"
    }
   ],
   "source": [
    "aw = {}\n",
    "for model in cmip_info:\n",
    "    z= cmip6[model][0].coord('air_pressure').points\n",
    "    aw[model]=iris.analysis.cartography.area_weights(cmip6[model][0][:,:12])\n",
    "    plt.plot(cmip6[model][0][:,:12].collapsed(['time','longitude','latitude'],iris.analysis.MEAN,weights=aw[model]).data#*(z[:12]/100000)**-0.286\n",
    "              -cmip6['ACCESS-CM2'][0][:,:12].collapsed(['time','longitude','latitude'],iris.analysis.MEAN,weights=aw['ACCESS-CM2']).data,z[:12],label=model)\n",
    "    plt.ylim(100000,0)\n",
    "\n",
    "plt.legend()\n"
   ]
  },
  {
   "cell_type": "code",
   "execution_count": 25,
   "id": "d9800fef-2120-4ca9-a556-0ff4e2e4ea64",
   "metadata": {},
   "outputs": [
    {
     "data": {
      "text/plain": [
       "array([1000.,  925.,  850.,  700.,  600.,  500.,  400.,  300.,  250.,\n",
       "        200.,  150.,  100.])"
      ]
     },
     "execution_count": 25,
     "metadata": {},
     "output_type": "execute_result"
    }
   ],
   "source": [
    "z[:12]/100"
   ]
  },
  {
   "cell_type": "code",
   "execution_count": null,
   "id": "fd47f94f-60df-4b2d-8c4b-db3dc18f59e0",
   "metadata": {},
   "outputs": [],
   "source": []
  }
 ],
 "metadata": {
  "kernelspec": {
   "display_name": "Python [conda env:analysis3]",
   "language": "python",
   "name": "conda-env-analysis3-py"
  },
  "language_info": {
   "codemirror_mode": {
    "name": "ipython",
    "version": 3
   },
   "file_extension": ".py",
   "mimetype": "text/x-python",
   "name": "python",
   "nbconvert_exporter": "python",
   "pygments_lexer": "ipython3",
   "version": "3.9.9"
  }
 },
 "nbformat": 4,
 "nbformat_minor": 5
}
